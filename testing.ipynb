{
  "nbformat": 4,
  "nbformat_minor": 0,
  "metadata": {
    "kernelspec": {
      "display_name": "Python 3",
      "language": "python",
      "name": "python3"
    },
    "language_info": {
      "codemirror_mode": {
        "name": "ipython",
        "version": 3
      },
      "file_extension": ".py",
      "mimetype": "text/x-python",
      "name": "python",
      "nbconvert_exporter": "python",
      "pygments_lexer": "ipython3",
      "version": "3.6.3"
    },
    "colab": {
      "provenance": []
    }
  },
  "cells": [
    {
      "cell_type": "code",
      "metadata": {
        "collapsed": true,
        "id": "gDuDPSH2KmXF"
      },
      "source": [
        "import pandas as pd\n",
        "import numpy as np"
      ],
      "execution_count": null,
      "outputs": []
    },
    {
      "cell_type": "code",
      "metadata": {
        "colab": {
          "base_uri": "https://localhost:8080/",
          "height": 665
        },
        "id": "SYTRBAFzKmXF",
        "outputId": "f39ee50f-c095-4e4e-d916-0cfa22398d41"
      },
      "source": [
        "df = pd.DataFrame()\n",
        "df = pd.read_csv('/content/movie_data.csv')\n",
        "df.head(20)"
      ],
      "execution_count": null,
      "outputs": [
        {
          "output_type": "execute_result",
          "data": {
            "text/html": [
              "<div>\n",
              "<style scoped>\n",
              "    .dataframe tbody tr th:only-of-type {\n",
              "        vertical-align: middle;\n",
              "    }\n",
              "\n",
              "    .dataframe tbody tr th {\n",
              "        vertical-align: top;\n",
              "    }\n",
              "\n",
              "    .dataframe thead th {\n",
              "        text-align: right;\n",
              "    }\n",
              "</style>\n",
              "<table border=\"1\" class=\"dataframe\">\n",
              "  <thead>\n",
              "    <tr style=\"text-align: right;\">\n",
              "      <th></th>\n",
              "      <th>review</th>\n",
              "      <th>sentiment</th>\n",
              "    </tr>\n",
              "  </thead>\n",
              "  <tbody>\n",
              "    <tr>\n",
              "      <th>0</th>\n",
              "      <td>I went and saw this movie last night after bei...</td>\n",
              "      <td>1</td>\n",
              "    </tr>\n",
              "    <tr>\n",
              "      <th>1</th>\n",
              "      <td>Actor turned director Bill Paxton follows up h...</td>\n",
              "      <td>1</td>\n",
              "    </tr>\n",
              "    <tr>\n",
              "      <th>2</th>\n",
              "      <td>As a recreational golfer with some knowledge o...</td>\n",
              "      <td>1</td>\n",
              "    </tr>\n",
              "    <tr>\n",
              "      <th>3</th>\n",
              "      <td>I saw this film in a sneak preview, and it is ...</td>\n",
              "      <td>1</td>\n",
              "    </tr>\n",
              "    <tr>\n",
              "      <th>4</th>\n",
              "      <td>Bill Paxton has taken the true story of the 19...</td>\n",
              "      <td>1</td>\n",
              "    </tr>\n",
              "    <tr>\n",
              "      <th>5</th>\n",
              "      <td>I saw this film on September 1st, 2005 in Indi...</td>\n",
              "      <td>1</td>\n",
              "    </tr>\n",
              "    <tr>\n",
              "      <th>6</th>\n",
              "      <td>Maybe I'm reading into this too much, but I wo...</td>\n",
              "      <td>1</td>\n",
              "    </tr>\n",
              "    <tr>\n",
              "      <th>7</th>\n",
              "      <td>I felt this film did have many good qualities....</td>\n",
              "      <td>1</td>\n",
              "    </tr>\n",
              "    <tr>\n",
              "      <th>8</th>\n",
              "      <td>This movie is amazing because the fact that th...</td>\n",
              "      <td>1</td>\n",
              "    </tr>\n",
              "    <tr>\n",
              "      <th>9</th>\n",
              "      <td>\"Quitting\" may be as much about exiting a pre-...</td>\n",
              "      <td>1</td>\n",
              "    </tr>\n",
              "    <tr>\n",
              "      <th>10</th>\n",
              "      <td>I loved this movie from beginning to end.I am ...</td>\n",
              "      <td>1</td>\n",
              "    </tr>\n",
              "    <tr>\n",
              "      <th>11</th>\n",
              "      <td>I was fortunate to attend the London premier o...</td>\n",
              "      <td>1</td>\n",
              "    </tr>\n",
              "    <tr>\n",
              "      <th>12</th>\n",
              "      <td>I first saw this movie on IFC. Which is a grea...</td>\n",
              "      <td>1</td>\n",
              "    </tr>\n",
              "    <tr>\n",
              "      <th>13</th>\n",
              "      <td>I must say, every time I see this movie, I am ...</td>\n",
              "      <td>1</td>\n",
              "    </tr>\n",
              "    <tr>\n",
              "      <th>14</th>\n",
              "      <td>My wife is a mental health therapist and we wa...</td>\n",
              "      <td>1</td>\n",
              "    </tr>\n",
              "    <tr>\n",
              "      <th>15</th>\n",
              "      <td>I saw this film at the Rotterdam International...</td>\n",
              "      <td>1</td>\n",
              "    </tr>\n",
              "    <tr>\n",
              "      <th>16</th>\n",
              "      <td>\"Night of the Hunted\" stars French porn star B...</td>\n",
              "      <td>1</td>\n",
              "    </tr>\n",
              "    <tr>\n",
              "      <th>17</th>\n",
              "      <td>Even if you're a fan of Jean Rollin's idiosync...</td>\n",
              "      <td>1</td>\n",
              "    </tr>\n",
              "    <tr>\n",
              "      <th>18</th>\n",
              "      <td>I was surprised how much I enjoyed this. Sure ...</td>\n",
              "      <td>1</td>\n",
              "    </tr>\n",
              "    <tr>\n",
              "      <th>19</th>\n",
              "      <td>I went into \"Night of the Hunted\" not knowing ...</td>\n",
              "      <td>1</td>\n",
              "    </tr>\n",
              "  </tbody>\n",
              "</table>\n",
              "</div>"
            ],
            "text/plain": [
              "                                               review  sentiment\n",
              "0   I went and saw this movie last night after bei...          1\n",
              "1   Actor turned director Bill Paxton follows up h...          1\n",
              "2   As a recreational golfer with some knowledge o...          1\n",
              "3   I saw this film in a sneak preview, and it is ...          1\n",
              "4   Bill Paxton has taken the true story of the 19...          1\n",
              "5   I saw this film on September 1st, 2005 in Indi...          1\n",
              "6   Maybe I'm reading into this too much, but I wo...          1\n",
              "7   I felt this film did have many good qualities....          1\n",
              "8   This movie is amazing because the fact that th...          1\n",
              "9   \"Quitting\" may be as much about exiting a pre-...          1\n",
              "10  I loved this movie from beginning to end.I am ...          1\n",
              "11  I was fortunate to attend the London premier o...          1\n",
              "12  I first saw this movie on IFC. Which is a grea...          1\n",
              "13  I must say, every time I see this movie, I am ...          1\n",
              "14  My wife is a mental health therapist and we wa...          1\n",
              "15  I saw this film at the Rotterdam International...          1\n",
              "16  \"Night of the Hunted\" stars French porn star B...          1\n",
              "17  Even if you're a fan of Jean Rollin's idiosync...          1\n",
              "18  I was surprised how much I enjoyed this. Sure ...          1\n",
              "19  I went into \"Night of the Hunted\" not knowing ...          1"
            ]
          },
          "metadata": {
            "tags": []
          },
          "execution_count": 4
        }
      ]
    },
    {
      "cell_type": "code",
      "metadata": {
        "colab": {
          "base_uri": "https://localhost:8080/"
        },
        "id": "XQU9Wa-CNaci",
        "outputId": "239f4dea-d608-406d-b5ed-1016910cff17"
      },
      "source": [
        "import nltk\n",
        "nltk.download('punkt') # Used for sentence tokenizer\n",
        "nltk.download('stopwords')"
      ],
      "execution_count": null,
      "outputs": [
        {
          "output_type": "stream",
          "text": [
            "[nltk_data] Downloading package punkt to /root/nltk_data...\n",
            "[nltk_data]   Unzipping tokenizers/punkt.zip.\n",
            "[nltk_data] Downloading package stopwords to /root/nltk_data...\n",
            "[nltk_data]   Unzipping corpora/stopwords.zip.\n"
          ],
          "name": "stdout"
        },
        {
          "output_type": "execute_result",
          "data": {
            "text/plain": [
              "True"
            ]
          },
          "metadata": {
            "tags": []
          },
          "execution_count": 2
        }
      ]
    },
    {
      "cell_type": "code",
      "metadata": {
        "collapsed": true,
        "id": "ROxKhMU3KmXG"
      },
      "source": [
        "import string\n",
        "from nltk.tokenize import word_tokenize\n",
        "from nltk.corpus import stopwords\n",
        "\n",
        "review_lines = list()\n",
        "lines = df['review'].values.tolist()\n",
        "\n",
        "for line in lines:\n",
        "    tokens = word_tokenize(line)\n",
        "    # convert to lower case\n",
        "    tokens = [w.lower() for w in tokens]\n",
        "\n",
        "    # remove punctuation from each word\n",
        "    table = str.maketrans('', '', string.punctuation)\n",
        "    #Replace the characters in the first argument with the corresponding characters in the second argument\n",
        "    #Third argument represents a string of characters that must be removed from the original string\n",
        "    stripped = [w.translate(table) for w in tokens]\n",
        "\n",
        "    # remove remaining tokens that are not alphabetic\n",
        "    words = [word for word in stripped if word.isalpha()] #.isalpha returns True if the chaarcters are aphabets\n",
        "\n",
        "    # filter out stop words\n",
        "    stop_words = set(stopwords.words('english'))\n",
        "    words = [w for w in words if not w in stop_words]\n",
        "    review_lines.append(words)"
      ],
      "execution_count": null,
      "outputs": []
    },
    {
      "cell_type": "code",
      "metadata": {
        "colab": {
          "base_uri": "https://localhost:8080/"
        },
        "id": "GoE6iIbzKmXH",
        "outputId": "d0917a7a-1e35-4bc8-edff-4bfdf7d4fac4"
      },
      "source": [
        "len(review_lines)"
      ],
      "execution_count": null,
      "outputs": [
        {
          "output_type": "execute_result",
          "data": {
            "text/plain": [
              "50000"
            ]
          },
          "metadata": {
            "tags": []
          },
          "execution_count": 5
        }
      ]
    },
    {
      "cell_type": "code",
      "metadata": {
        "colab": {
          "base_uri": "https://localhost:8080/"
        },
        "id": "tZFTILtaKmXH",
        "outputId": "5bb7ea8f-a48c-4880-bd97-d52bc772d4a5"
      },
      "source": [
        "import gensim # Process plain text\n",
        "\n",
        "EMBEDDING_DIM = 100\n",
        "# train word2vec model\n",
        "model = gensim.models.Word2Vec(sentences=review_lines, size=EMBEDDING_DIM, window=5, min_count=1)\n",
        "'''\n",
        "size : Number of dimensions of the embeddings\n",
        "window : sliding window size\n",
        "min_count : Minimum count of words to consider while training a model. Default is 5\n",
        "'''\n",
        "# vocab size\n",
        "words = list(model.wv.vocab) # wv is the object that contain mappings between words and embeddings\n",
        "print('Vocabulary size: %d' % len(words))"
      ],
      "execution_count": null,
      "outputs": [
        {
          "output_type": "stream",
          "text": [
            "Vocabulary size: 134156\n"
          ],
          "name": "stdout"
        }
      ]
    },
    {
      "cell_type": "code",
      "metadata": {
        "id": "S5mC_7-4KmXJ"
      },
      "source": [
        "import os\n",
        "\n",
        "embeddings_index = {}\n",
        "#f = open(os.path.join('', 'imdb_embedding_word2vec.txt'),  encoding = \"utf-8\")\n",
        "f = open('/content/imdb_embedding_word2vec.txt')\n",
        "for line in f:\n",
        "  print(line)\n",
        "  values = line.split()\n",
        "  #print(values)\n",
        "  word = values[0]\n",
        "  coefs = np.asarray(values[1:])\n",
        "  embeddings_index[word] = coefs\n",
        "f.close()"
      ],
      "execution_count": null,
      "outputs": []
    },
    {
      "cell_type": "code",
      "metadata": {
        "id": "vbpuIKvrBsoP"
      },
      "source": [
        "embeddings_index"
      ],
      "execution_count": null,
      "outputs": []
    },
    {
      "cell_type": "code",
      "metadata": {
        "collapsed": true,
        "id": "L68AFRRrKmXK"
      },
      "source": [
        "max_length = 100 # try other options like mean of sentence lengths"
      ],
      "execution_count": null,
      "outputs": []
    },
    {
      "cell_type": "code",
      "metadata": {
        "id": "nE33QeEiKmXK"
      },
      "source": [
        "from tensorflow.python.keras.preprocessing.text import Tokenizer\n",
        "from tensorflow.python.keras.preprocessing.sequence import pad_sequences\n",
        "\n",
        "VALIDATION_SPLIT = 0.2\n",
        "\n",
        "# vectorize the text samples into a 2D integer tensor\n",
        "tokenizer_obj = Tokenizer()\n",
        "tokenizer_obj.fit_on_texts(review_lines)\n",
        "sequences = tokenizer_obj.texts_to_sequences(review_lines) # Transforms text into a sequence of integers"
      ],
      "execution_count": null,
      "outputs": []
    },
    {
      "cell_type": "code",
      "metadata": {
        "colab": {
          "base_uri": "https://localhost:8080/"
        },
        "id": "n0WrRN_yBWiG",
        "outputId": "0f12441c-f181-4e31-b356-63cb87d03f72"
      },
      "source": [
        "# pad sequences\n",
        "'''\n",
        "pad_sequences : convert a list of sequences into a 2D numpy array of shape (num_samples,num_timesteps)\n",
        "num_timesteps : maxlen(if provided) or length of the longest sequence\n",
        "pre padding or truncating from the beginning is the default, can change it to post\n",
        "'''\n",
        "word_index = tokenizer_obj.word_index # Maps words to their numeric representation\n",
        "print('Found %s unique tokens.' % len(word_index))\n",
        "\n",
        "review_pad = pad_sequences(sequences, maxlen=max_length)\n",
        "sentiment =  df['sentiment'].values\n",
        "print('Shape of review tensor:', review_pad.shape)\n",
        "print('Shape of sentiment tensor:', sentiment.shape)\n",
        "\n"
      ],
      "execution_count": null,
      "outputs": [
        {
          "output_type": "stream",
          "text": [
            "Found 134156 unique tokens.\n",
            "Shape of review tensor: (50000, 100)\n",
            "Shape of sentiment tensor: (50000,)\n"
          ],
          "name": "stdout"
        }
      ]
    },
    {
      "cell_type": "code",
      "metadata": {
        "colab": {
          "base_uri": "https://localhost:8080/"
        },
        "id": "k4VqLPNQCqOJ",
        "outputId": "754ed6e9-bfa2-4281-dde0-796d8c6e16e2"
      },
      "source": [
        "review_pad[0]"
      ],
      "execution_count": null,
      "outputs": [
        {
          "output_type": "execute_result",
          "data": {
            "text/plain": [
              "array([    0,     0,     0,     0,     0,     0,     0,     0,     0,\n",
              "           0,     0,     0,     0,     0,     0,     0,     0,     0,\n",
              "           0,     0,     0,     0,     0,     0,     0,     0,     0,\n",
              "           0,     0,   288,   101,     2,   128,   198, 28328,   228,\n",
              "        1590,   816,  5464,    13,   524,  9564,  9037,   351,   106,\n",
              "         237,  9037,   142,    30,  3111, 15552,    14,  1422,  6790,\n",
              "         142,   991,  8092, 10922,  1822,     7,     2,  2953,  1147,\n",
              "           5,   472,   312,   613,  2809,  2975,  1944,    22,   236,\n",
              "           2,  1446,  1515,   222,   236, 11399,   613,   101,    32,\n",
              "         239,  1515,    32,   259,  2172,   220,    14,   149,  2589,\n",
              "         164,   135,    13,  2289,     2,    20,  1268,    53,    13,\n",
              "        1474], dtype=int32)"
            ]
          },
          "metadata": {
            "tags": []
          },
          "execution_count": 43
        }
      ]
    },
    {
      "cell_type": "code",
      "metadata": {
        "colab": {
          "base_uri": "https://localhost:8080/"
        },
        "id": "FLscZdVeBct8",
        "outputId": "3f2bbfc5-201a-4a44-b297-8046048cd152"
      },
      "source": [
        "# split the data into a training set and a validation set\n",
        "indices = np.arange(review_pad.shape[0])\n",
        "print(indices)\n",
        "#print(len(indices))\n",
        "np.random.shuffle(indices)\n",
        "print(indices)\n",
        "#print(len(indices))\n"
      ],
      "execution_count": null,
      "outputs": [
        {
          "output_type": "stream",
          "text": [
            "[    0     1     2 ... 49997 49998 49999]\n",
            "50000\n",
            "[13472 39872 34300 ... 13885 10652 18104]\n",
            "50000\n"
          ],
          "name": "stdout"
        }
      ]
    },
    {
      "cell_type": "code",
      "metadata": {
        "id": "0Gcrmee2CWdh"
      },
      "source": [
        "review_pad = review_pad[indices]\n",
        "sentiment = sentiment[indices]\n",
        "num_validation_samples = int(VALIDATION_SPLIT * review_pad.shape[0])"
      ],
      "execution_count": null,
      "outputs": []
    },
    {
      "cell_type": "code",
      "metadata": {
        "id": "Wu9PEQaQCSLs"
      },
      "source": [
        "X_train_pad = review_pad[:-num_validation_samples]\n",
        "y_train = sentiment[:-num_validation_samples]\n",
        "X_test_pad = review_pad[-num_validation_samples:]\n",
        "y_test = sentiment[-num_validation_samples:]"
      ],
      "execution_count": null,
      "outputs": []
    },
    {
      "cell_type": "code",
      "metadata": {
        "colab": {
          "base_uri": "https://localhost:8080/"
        },
        "id": "85gknMnHKmXK",
        "outputId": "2d36244e-0f79-48e0-9e9c-12e8462a3212"
      },
      "source": [
        "print('Shape of X_train_pad tensor:', X_train_pad.shape)\n",
        "print('Shape of y_train tensor:', y_train.shape)\n",
        "\n",
        "print('Shape of X_test_pad tensor:', X_test_pad.shape)\n",
        "print('Shape of y_test tensor:', y_test.shape)"
      ],
      "execution_count": null,
      "outputs": [
        {
          "output_type": "stream",
          "text": [
            "Shape of X_train_pad tensor: (40000, 100)\n",
            "Shape of y_train tensor: (40000,)\n",
            "Shape of X_test_pad tensor: (10000, 100)\n",
            "Shape of y_test tensor: (10000,)\n"
          ],
          "name": "stdout"
        }
      ]
    },
    {
      "cell_type": "code",
      "metadata": {
        "id": "ctS50qDoFZ_1"
      },
      "source": [
        "from keras.models import load_model\n",
        "from keras.models import model_from_json"
      ],
      "execution_count": null,
      "outputs": []
    },
    {
      "cell_type": "code",
      "metadata": {
        "id": "ueEgr5sgFb9F"
      },
      "source": [
        "# Model reconstruction from JSON file\n",
        "with open('/content/model_architecture_Sentiment_classifier_word2vec_first_try.json', 'r') as f:\n",
        "    model = model_from_json(f.read())"
      ],
      "execution_count": null,
      "outputs": []
    },
    {
      "cell_type": "code",
      "metadata": {
        "id": "fiiKv0tyFeFE"
      },
      "source": [
        "model.load_weights('/content/Sentiment_Classifier_word2vec_first_try.h5')"
      ],
      "execution_count": null,
      "outputs": []
    },
    {
      "cell_type": "code",
      "metadata": {
        "colab": {
          "base_uri": "https://localhost:8080/"
        },
        "id": "3VR2GL6YFuIQ",
        "outputId": "b18e86c9-322b-472e-ec97-722689ad7356"
      },
      "source": [
        "test_sample_1 = \"This movie is fantastic! I really like it because it is so good!\"\n",
        "test_sample_2 = \"Good movie!\"\n",
        "test_sample_3 = \"Maybe I like this movie.\"\n",
        "test_sample_4 = \"Not to my taste, will skip and watch another movie\"\n",
        "test_sample_5 = \"if you like action, then this movie might be good for you.\"\n",
        "test_sample_6 = \"Bad movie!\"\n",
        "test_sample_7 = \"Not a good movie!\"\n",
        "test_sample_8 = \"This movie really sucks! Can I get my money back please?\"\n",
        "test_samples = [test_sample_1, test_sample_2, test_sample_3, test_sample_4, test_sample_5, test_sample_6, test_sample_7, test_sample_8]\n",
        "\n",
        "test_samples_tokens = tokenizer_obj.texts_to_sequences(test_samples)\n",
        "test_samples_tokens_pad = pad_sequences(test_samples_tokens, maxlen=max_length)\n",
        "\n",
        "#predict\n",
        "model.predict(x=test_samples_tokens_pad)"
      ],
      "execution_count": null,
      "outputs": [
        {
          "output_type": "execute_result",
          "data": {
            "text/plain": [
              "array([[0.982698  ],\n",
              "       [0.77318543],\n",
              "       [0.45511347],\n",
              "       [0.34137696],\n",
              "       [0.39119244],\n",
              "       [0.08242244],\n",
              "       [0.77318543],\n",
              "       [0.03846601]], dtype=float32)"
            ]
          },
          "metadata": {
            "tags": []
          },
          "execution_count": 59
        }
      ]
    },
    {
      "cell_type": "code",
      "metadata": {
        "id": "hhKuXRMtKuNQ"
      },
      "source": [],
      "execution_count": null,
      "outputs": []
    }
  ]
}